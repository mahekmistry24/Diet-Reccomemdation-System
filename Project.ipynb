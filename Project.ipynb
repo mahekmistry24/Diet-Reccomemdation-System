{
 "cells": [
  {
   "cell_type": "code",
   "execution_count": 13,
   "metadata": {},
   "outputs": [
    {
     "name": "stderr",
     "output_type": "stream",
     "text": [
      "WARNING:absl:Compiled the loaded model, but the compiled metrics have yet to be built. `model.compile_metrics` will be empty until you train or evaluate the model.\n",
      "WARNING:absl:Compiled the loaded model, but the compiled metrics have yet to be built. `model.compile_metrics` will be empty until you train or evaluate the model.\n"
     ]
    }
   ],
   "source": [
    "import cv2\n",
    "import numpy as np\n",
    "import pandas as pd\n",
    "import pickle\n",
    "from tensorflow.keras.models import load_model\n",
    "from sklearn.preprocessing import StandardScaler\n",
    "import tensorflow as tf\n",
    "\n",
    "# Load pre-trained models\n",
    "cnn_model = load_model('cnn_fruit_model.h5')\n",
    "ann_model = load_model('ann_calorie_model.h5')\n",
    "\n",
    "# Load Label Binarizer for decoding predictions\n",
    "with open('label_binarizer.pkl', 'rb') as file:\n",
    "    lb = pickle.load(file)\n",
    "\n",
    "# Load Excel file with nutritional data\n",
    "data = pd.read_csv('fruits.csv')\n",
    "\n",
    "# Initialize scaler (same scaler used during ANN model training)\n",
    "scaler_X = StandardScaler()\n",
    "scaler_y = StandardScaler()\n",
    "\n",
    "# Fit the scaler with nutritional data (excluding Fruit Name column)\n",
    "features = data[['water (g)',\t'protein (g)',\t'total fat (g)',\t'carbohydrates (g)',\t'fiber (g)'\t,'sugars (g)'\t,'calcium (mg)',\t'iron (mg)',\t'magnessium (mg)',\t'phosphorus (mg)',\t'potassium (mg)',\t'sodium (g)']]\n",
    "calories = data[['energy (kcal/kJ)']]\n",
    "scaler_X.fit(features)\n",
    "scaler_y.fit(calories)\n",
    "\n",
    "# Preprocess input image\n",
    "def preprocess_image(image_path):\n",
    "    IMG_SIZE = (100, 100)\n",
    "    image = cv2.imread(image_path)\n",
    "    image = cv2.resize(image, IMG_SIZE)\n",
    "    image = image / 255.0\n",
    "    return image.reshape(1, 100, 100, 3)\n",
    "\n",
    "@tf.function\n",
    "def predict_fruit(image):\n",
    "  prediction = cnn_model.predict(image)  # Get the prediction\n",
    "  return prediction[0]  # Return the first element (prediction for single image)\n",
    "\n",
    "# Define a function for predicting diet recommendation\n",
    "\n",
    "\n",
    "def predict_diet(image_path):\n",
    "    # Step 1: Preprocess the image\n",
    "    image = preprocess_image(image_path)\n",
    "\n",
    "    # Step 2: Classify the fruit using CNN model\n",
    "    fruit_pred = np.array(cnn_model.predict(image))  # Convert to NumPy array\n",
    "    fruit_label_idx = np.argmax(fruit_pred)  # Find the index of the highest prediction score\n",
    "    fruit_name = lb.classes_[fruit_label_idx]  # Get the fruit name from the label binarizer\n",
    "\n",
    "    # Step 3: Retrieve nutritional data based on predicted fruit label\n",
    "    if fruit_name not in data['name'].values:\n",
    "        return f\"Error: '{fruit_name}' not found in dataset. Please ensure folder names and Excel entries are consistent.\"\n",
    "\n",
    "    fruit_data = data[data['name'] == fruit_name]\n",
    "    features = fruit_data[['water (g)',\t'protein (g)',\t'total fat (g)',\t'carbohydrates (g)',\t'fiber (g)'\t,'sugars (g)'\t,'calcium (mg)',\t'iron (mg)',\t'magnessium (mg)',\t'phosphorus (mg)',\t'potassium (mg)',\t'sodium (g)']].values\n",
    "    features_scaled = scaler_X.transform(features)\n",
    "\n",
    "    # Step 4: Refine calorie prediction using ANN model\n",
    "    calorie_prediction_scaled = ann_model.predict(features_scaled)\n",
    "    refined_calorie_value = scaler_y.inverse_transform(calorie_prediction_scaled)[0][0]\n",
    "\n",
    "    # Step 5: Return predicted fruit and detailed nutritional information\n",
    "    return {\n",
    "        'Fruit Name': fruit_name,\n",
    "        'Calorie (kcal)': round(refined_calorie_value, 2),\n",
    "        'Water (g)': fruit_data['water (g)'].values[0],\n",
    "        'Protein (g)': fruit_data['protein (g)'].values[0],\n",
    "        'Fiber (g)': fruit_data['fiber (g)'].values[0],\n",
    "        'Sugar (g)': fruit_data['sugars (g)'].values[0],\n",
    "        'Carbohydrates (g)': fruit_data['carbohydrates (g)'].values[0],\n",
    "        'Total fat (g)': fruit_data['total fat (g)'].values[0],\n",
    "        'Sugars (g)': fruit_data['sugars (g)'].values[0],\n",
    "        'Calcium (mg)': fruit_data['calcium (mg)'].values[0],\n",
    "        'Iron (mg)': fruit_data['iron (mg)'].values[0],\n",
    "        'Magnesium (mg)': fruit_data['magnessium (mg)'].values[0],\n",
    "        'Phosphorus (mg)': fruit_data['phosphorus (mg)'].values[0],\n",
    "        'Potassium (mg)': fruit_data['potassium (mg)'].values[0],\n",
    "        'Sodium (g)': fruit_data['sodium (g)'].values[0]\n",
    "    }\n"
   ]
  },
  {
   "cell_type": "code",
   "execution_count": 16,
   "metadata": {},
   "outputs": [
    {
     "name": "stdout",
     "output_type": "stream",
     "text": [
      "\u001b[1m1/1\u001b[0m \u001b[32m━━━━━━━━━━━━━━━━━━━━\u001b[0m\u001b[37m\u001b[0m \u001b[1m0s\u001b[0m 144ms/step\n",
      "\u001b[1m1/1\u001b[0m \u001b[32m━━━━━━━━━━━━━━━━━━━━\u001b[0m\u001b[37m\u001b[0m \u001b[1m0s\u001b[0m 47ms/step\n",
      "{'Fruit Name': 'Watermelon 1', 'Calorie (kcal)': 20.43, 'Water (g)': 91.45, 'Protein (g)': 0.61, 'Fiber (g)': 0.4, 'Sugar (g)': 6.2, 'Carbohydrates (g)': 7.55, 'Total fat (g)': 0.15, 'Sugars (g)': 6.2, 'Calcium (mg)': 7.0, 'Iron (mg)': 0.24, 'Magnesium (mg)': 10.0, 'Phosphorus (mg)': 11, 'Potassium (mg)': 112, 'Sodium (g)': 1.0}\n"
     ]
    },
    {
     "name": "stderr",
     "output_type": "stream",
     "text": [
      "c:\\Users\\Acer\\AppData\\Local\\Programs\\Python\\Python312\\Lib\\site-packages\\sklearn\\base.py:493: UserWarning: X does not have valid feature names, but StandardScaler was fitted with feature names\n",
      "  warnings.warn(\n"
     ]
    }
   ],
   "source": [
    "result = predict_diet('watermelon1.jpg')\n",
    "print(result)"
   ]
  },
  {
   "cell_type": "code",
   "execution_count": 17,
   "metadata": {},
   "outputs": [
    {
     "name": "stdout",
     "output_type": "stream",
     "text": [
      "\u001b[1m1/1\u001b[0m \u001b[32m━━━━━━━━━━━━━━━━━━━━\u001b[0m\u001b[37m\u001b[0m \u001b[1m0s\u001b[0m 51ms/step\n",
      "\u001b[1m1/1\u001b[0m \u001b[32m━━━━━━━━━━━━━━━━━━━━\u001b[0m\u001b[37m\u001b[0m \u001b[1m0s\u001b[0m 21ms/step\n",
      "{'Fruit Name': 'Pear 1', 'Calorie (kcal)': 52.72, 'Water (g)': 83.71, 'Protein (g)': 0.38, 'Fiber (g)': 3.1, 'Sugar (g)': 9.8, 'Carbohydrates (g)': 15.46, 'Total fat (g)': 0.12, 'Sugars (g)': 9.8, 'Calcium (mg)': 9.0, 'Iron (mg)': 0.17, 'Magnesium (mg)': 7.0, 'Phosphorus (mg)': 11, 'Potassium (mg)': 119, 'Sodium (g)': 1.0}\n"
     ]
    },
    {
     "name": "stderr",
     "output_type": "stream",
     "text": [
      "c:\\Users\\Acer\\AppData\\Local\\Programs\\Python\\Python312\\Lib\\site-packages\\sklearn\\base.py:493: UserWarning: X does not have valid feature names, but StandardScaler was fitted with feature names\n",
      "  warnings.warn(\n"
     ]
    }
   ],
   "source": [
    "result = predict_diet('pear.jpg')\n",
    "print(result)"
   ]
  }
 ],
 "metadata": {
  "kernelspec": {
   "display_name": "Python 3",
   "language": "python",
   "name": "python3"
  },
  "language_info": {
   "codemirror_mode": {
    "name": "ipython",
    "version": 3
   },
   "file_extension": ".py",
   "mimetype": "text/x-python",
   "name": "python",
   "nbconvert_exporter": "python",
   "pygments_lexer": "ipython3",
   "version": "3.12.6"
  }
 },
 "nbformat": 4,
 "nbformat_minor": 2
}
