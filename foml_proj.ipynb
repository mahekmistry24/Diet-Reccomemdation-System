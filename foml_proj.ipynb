{
  "nbformat": 4,
  "nbformat_minor": 0,
  "metadata": {
    "colab": {
      "provenance": [],
      "gpuType": "T4"
    },
    "kernelspec": {
      "name": "python3",
      "display_name": "Python 3"
    },
    "language_info": {
      "name": "python"
    },
    "accelerator": "GPU"
  },
  "cells": [
    {
      "cell_type": "code",
      "execution_count": null,
      "metadata": {
        "id": "rp61JVhIeOXt"
      },
      "outputs": [],
      "source": [
        "import cv2\n",
        "import numpy as np\n",
        "import os\n",
        "from sklearn.preprocessing import LabelBinarizer"
      ]
    },
    {
      "cell_type": "code",
      "source": [
        "# Constants\n",
        "IMG_SIZE = (100, 100)\n",
        "DATA_DIR = '/content/drive/MyDrive/fruits-360/Training'"
      ],
      "metadata": {
        "id": "IJ-m4a_Mfb4u"
      },
      "execution_count": null,
      "outputs": []
    },
    {
      "cell_type": "code",
      "source": [
        "# Function to preprocess images\n",
        "def load_and_preprocess_data(data_dir):\n",
        "    X, y = [], []\n",
        "    classes = os.listdir(data_dir)\n",
        "    label_binarizer = LabelBinarizer()\n",
        "    labels = label_binarizer.fit_transform(classes)\n",
        "\n",
        "    for idx, fruit in enumerate(classes):\n",
        "        fruit_dir = os.path.join(data_dir, fruit)   ## for example, if data_dir is \"data/fruits\" and fruit is \"apple\", then fruit_dir would be \"data/fruits/apple\".\n",
        "        for img in os.listdir(fruit_dir):\n",
        "            img_path = os.path.join(fruit_dir, img)   ##For example, if fruit_dir is \"data/fruits/apple\" and img is \"image1.jpg\", then img_path would be \"data/fruits/apple/image1.jpg\".\n",
        "            image = cv2.imread(img_path)\n",
        "            image = cv2.resize(image, IMG_SIZE)\n",
        "            image = image / 255.0  # Normalize\n",
        "            X.append(image)\n",
        "            y.append(labels[idx])\n",
        "\n",
        "    return np.array(X), np.array(y), label_binarizer\n"
      ],
      "metadata": {
        "id": "9XTcdodvf4a-"
      },
      "execution_count": null,
      "outputs": []
    },
    {
      "cell_type": "code",
      "source": [
        "# Load and preprocess data\n",
        "X, y, lb = load_and_preprocess_data(DATA_DIR)"
      ],
      "metadata": {
        "id": "5mY4mGdHf8l-"
      },
      "execution_count": null,
      "outputs": []
    },
    {
      "cell_type": "code",
      "source": [
        "import tensorflow as tf\n",
        "from tensorflow.keras.models import Sequential\n",
        "from tensorflow.keras.layers import Conv2D, MaxPooling2D, Flatten, Dense"
      ],
      "metadata": {
        "id": "Bz5yOJwEgEAR"
      },
      "execution_count": null,
      "outputs": []
    },
    {
      "cell_type": "code",
      "source": [
        "\n",
        "# Define CNN model\n",
        "def build_cnn_model(input_shape):\n",
        "    model = Sequential([\n",
        "        Conv2D(32, (3, 3), activation='relu', input_shape=input_shape),\n",
        "        MaxPooling2D((2, 2)),\n",
        "        Conv2D(64, (3, 3), activation='relu'),\n",
        "        MaxPooling2D((2, 2)),\n",
        "        Flatten(),\n",
        "        Dense(128, activation='relu'),\n",
        "        Dense(len(lb.classes_), activation='softmax')\n",
        "    ])\n",
        "    model.compile(optimizer='adam', loss='categorical_crossentropy', metrics=['accuracy'])\n",
        "    return model"
      ],
      "metadata": {
        "id": "Yi65fJd_gcZo"
      },
      "execution_count": null,
      "outputs": []
    },
    {
      "cell_type": "code",
      "source": [
        "# Build and train CNN model\n",
        "input_shape = (100, 100, 3)\n",
        "cnn_model = build_cnn_model(input_shape)\n",
        "cnn_model.fit(X, y, epochs=20, validation_split=0.2)"
      ],
      "metadata": {
        "colab": {
          "base_uri": "https://localhost:8080/"
        },
        "id": "0DFvT7tpggo7",
        "outputId": "0c86ef90-7ef0-4c64-cd02-235606574979"
      },
      "execution_count": null,
      "outputs": [
        {
          "output_type": "stream",
          "name": "stderr",
          "text": [
            "/usr/local/lib/python3.10/dist-packages/keras/src/layers/convolutional/base_conv.py:107: UserWarning: Do not pass an `input_shape`/`input_dim` argument to a layer. When using Sequential models, prefer using an `Input(shape)` object as the first layer in the model instead.\n",
            "  super().__init__(activity_regularizer=activity_regularizer, **kwargs)\n"
          ]
        },
        {
          "output_type": "stream",
          "name": "stdout",
          "text": [
            "Epoch 1/20\n",
            "\u001b[1m357/357\u001b[0m \u001b[32m━━━━━━━━━━━━━━━━━━━━\u001b[0m\u001b[37m\u001b[0m \u001b[1m14s\u001b[0m 24ms/step - accuracy: 0.7492 - loss: 0.9688 - val_accuracy: 3.5014e-04 - val_loss: 36.2460\n",
            "Epoch 2/20\n",
            "\u001b[1m357/357\u001b[0m \u001b[32m━━━━━━━━━━━━━━━━━━━━\u001b[0m\u001b[37m\u001b[0m \u001b[1m4s\u001b[0m 12ms/step - accuracy: 1.0000 - loss: 2.7484e-04 - val_accuracy: 3.5014e-04 - val_loss: 40.0900\n",
            "Epoch 3/20\n",
            "\u001b[1m357/357\u001b[0m \u001b[32m━━━━━━━━━━━━━━━━━━━━\u001b[0m\u001b[37m\u001b[0m \u001b[1m4s\u001b[0m 11ms/step - accuracy: 1.0000 - loss: 1.0739e-04 - val_accuracy: 3.5014e-04 - val_loss: 42.3743\n",
            "Epoch 4/20\n",
            "\u001b[1m357/357\u001b[0m \u001b[32m━━━━━━━━━━━━━━━━━━━━\u001b[0m\u001b[37m\u001b[0m \u001b[1m5s\u001b[0m 11ms/step - accuracy: 1.0000 - loss: 6.7639e-05 - val_accuracy: 3.5014e-04 - val_loss: 44.0056\n",
            "Epoch 5/20\n",
            "\u001b[1m357/357\u001b[0m \u001b[32m━━━━━━━━━━━━━━━━━━━━\u001b[0m\u001b[37m\u001b[0m \u001b[1m6s\u001b[0m 12ms/step - accuracy: 1.0000 - loss: 3.8650e-05 - val_accuracy: 3.5014e-04 - val_loss: 45.3974\n",
            "Epoch 6/20\n",
            "\u001b[1m357/357\u001b[0m \u001b[32m━━━━━━━━━━━━━━━━━━━━\u001b[0m\u001b[37m\u001b[0m \u001b[1m5s\u001b[0m 11ms/step - accuracy: 1.0000 - loss: 2.8371e-05 - val_accuracy: 3.5014e-04 - val_loss: 46.6237\n",
            "Epoch 7/20\n",
            "\u001b[1m357/357\u001b[0m \u001b[32m━━━━━━━━━━━━━━━━━━━━\u001b[0m\u001b[37m\u001b[0m \u001b[1m5s\u001b[0m 11ms/step - accuracy: 1.0000 - loss: 2.0408e-05 - val_accuracy: 3.5014e-04 - val_loss: 47.6948\n",
            "Epoch 8/20\n",
            "\u001b[1m357/357\u001b[0m \u001b[32m━━━━━━━━━━━━━━━━━━━━\u001b[0m\u001b[37m\u001b[0m \u001b[1m4s\u001b[0m 12ms/step - accuracy: 1.0000 - loss: 1.4793e-05 - val_accuracy: 3.5014e-04 - val_loss: 48.7138\n",
            "Epoch 9/20\n",
            "\u001b[1m357/357\u001b[0m \u001b[32m━━━━━━━━━━━━━━━━━━━━\u001b[0m\u001b[37m\u001b[0m \u001b[1m4s\u001b[0m 11ms/step - accuracy: 1.0000 - loss: 1.0992e-05 - val_accuracy: 3.5014e-04 - val_loss: 49.7231\n",
            "Epoch 10/20\n",
            "\u001b[1m357/357\u001b[0m \u001b[32m━━━━━━━━━━━━━━━━━━━━\u001b[0m\u001b[37m\u001b[0m \u001b[1m5s\u001b[0m 11ms/step - accuracy: 1.0000 - loss: 8.7873e-06 - val_accuracy: 3.5014e-04 - val_loss: 50.6817\n",
            "Epoch 11/20\n",
            "\u001b[1m357/357\u001b[0m \u001b[32m━━━━━━━━━━━━━━━━━━━━\u001b[0m\u001b[37m\u001b[0m \u001b[1m5s\u001b[0m 13ms/step - accuracy: 1.0000 - loss: 6.5978e-06 - val_accuracy: 3.5014e-04 - val_loss: 51.4930\n",
            "Epoch 12/20\n",
            "\u001b[1m357/357\u001b[0m \u001b[32m━━━━━━━━━━━━━━━━━━━━\u001b[0m\u001b[37m\u001b[0m \u001b[1m4s\u001b[0m 11ms/step - accuracy: 1.0000 - loss: 5.4365e-06 - val_accuracy: 3.5014e-04 - val_loss: 52.3236\n",
            "Epoch 13/20\n",
            "\u001b[1m357/357\u001b[0m \u001b[32m━━━━━━━━━━━━━━━━━━━━\u001b[0m\u001b[37m\u001b[0m \u001b[1m4s\u001b[0m 11ms/step - accuracy: 1.0000 - loss: 4.5564e-06 - val_accuracy: 3.5014e-04 - val_loss: 53.0964\n",
            "Epoch 14/20\n",
            "\u001b[1m357/357\u001b[0m \u001b[32m━━━━━━━━━━━━━━━━━━━━\u001b[0m\u001b[37m\u001b[0m \u001b[1m4s\u001b[0m 12ms/step - accuracy: 1.0000 - loss: 3.4615e-06 - val_accuracy: 3.5014e-04 - val_loss: 53.8850\n",
            "Epoch 15/20\n",
            "\u001b[1m357/357\u001b[0m \u001b[32m━━━━━━━━━━━━━━━━━━━━\u001b[0m\u001b[37m\u001b[0m \u001b[1m4s\u001b[0m 11ms/step - accuracy: 1.0000 - loss: 2.8217e-06 - val_accuracy: 3.5014e-04 - val_loss: 54.6337\n",
            "Epoch 16/20\n",
            "\u001b[1m357/357\u001b[0m \u001b[32m━━━━━━━━━━━━━━━━━━━━\u001b[0m\u001b[37m\u001b[0m \u001b[1m5s\u001b[0m 11ms/step - accuracy: 1.0000 - loss: 2.1478e-06 - val_accuracy: 3.5014e-04 - val_loss: 55.3708\n",
            "Epoch 17/20\n",
            "\u001b[1m357/357\u001b[0m \u001b[32m━━━━━━━━━━━━━━━━━━━━\u001b[0m\u001b[37m\u001b[0m \u001b[1m5s\u001b[0m 12ms/step - accuracy: 1.0000 - loss: 1.8020e-06 - val_accuracy: 3.5014e-04 - val_loss: 56.1725\n",
            "Epoch 18/20\n",
            "\u001b[1m357/357\u001b[0m \u001b[32m━━━━━━━━━━━━━━━━━━━━\u001b[0m\u001b[37m\u001b[0m \u001b[1m5s\u001b[0m 11ms/step - accuracy: 1.0000 - loss: 1.4845e-06 - val_accuracy: 3.5014e-04 - val_loss: 56.8945\n",
            "Epoch 19/20\n",
            "\u001b[1m357/357\u001b[0m \u001b[32m━━━━━━━━━━━━━━━━━━━━\u001b[0m\u001b[37m\u001b[0m \u001b[1m5s\u001b[0m 11ms/step - accuracy: 1.0000 - loss: 1.1753e-06 - val_accuracy: 3.5014e-04 - val_loss: 57.4994\n",
            "Epoch 20/20\n",
            "\u001b[1m357/357\u001b[0m \u001b[32m━━━━━━━━━━━━━━━━━━━━\u001b[0m\u001b[37m\u001b[0m \u001b[1m6s\u001b[0m 13ms/step - accuracy: 1.0000 - loss: 9.9904e-07 - val_accuracy: 3.5014e-04 - val_loss: 58.2403\n"
          ]
        },
        {
          "output_type": "execute_result",
          "data": {
            "text/plain": [
              "<keras.src.callbacks.history.History at 0x7e862b6b0100>"
            ]
          },
          "metadata": {},
          "execution_count": 7
        }
      ]
    },
    {
      "cell_type": "code",
      "source": [
        "# Save the CNN model\n",
        "cnn_model.save('cnn_fruit_model.h5')\n",
        "import pickle\n",
        "# Save the Label Binarizer\n",
        "with open('label_binarizer.pkl', 'wb') as file:\n",
        "    pickle.dump(lb, file)"
      ],
      "metadata": {
        "colab": {
          "base_uri": "https://localhost:8080/"
        },
        "id": "15h2thIo6Ycu",
        "outputId": "3117cabe-880d-4698-ca59-6b3dc3255bb6"
      },
      "execution_count": null,
      "outputs": [
        {
          "output_type": "stream",
          "name": "stderr",
          "text": [
            "WARNING:absl:You are saving your model as an HDF5 file via `model.save()` or `keras.saving.save_model(model)`. This file format is considered legacy. We recommend using instead the native Keras format, e.g. `model.save('my_model.keras')` or `keras.saving.save_model(model, 'my_model.keras')`. \n"
          ]
        }
      ]
    },
    {
      "cell_type": "code",
      "source": [
        "import pandas as pd\n",
        "from tensorflow.keras.models import Sequential\n",
        "from tensorflow.keras.layers import Dense"
      ],
      "metadata": {
        "id": "IlZevUSQgl5o"
      },
      "execution_count": null,
      "outputs": []
    },
    {
      "cell_type": "code",
      "source": [
        "import pandas as pd\n",
        "from sklearn.preprocessing import StandardScaler\n",
        "import numpy as np\n",
        "\n",
        "# Load the enhanced Excel dataset\n",
        "data = pd.read_csv('/content/fruits_updated.csv')\n",
        "\n",
        "# Extract features and target\n",
        "X_ann = data[['water (g)',\t'protein (g)',\t'total fat (g)',\t'carbohydrates (g)',\t'fiber (g)'\t,'sugars (g)'\t,'calcium (mg)',\t'iron (mg)',\t'magnessium (mg)',\t'phosphorus (mg)',\t'potassium (mg)',\t'sodium (g)']].values\n",
        "y_ann = data['energy (kcal/kJ)'].values.reshape(-1, 1)\n",
        "\n",
        "# Standardize the features\n",
        "scaler_X = StandardScaler()\n",
        "scaler_y = StandardScaler()\n",
        "X_ann_scaled = scaler_X.fit_transform(X_ann)\n",
        "y_ann_scaled = scaler_y.fit_transform(y_ann)\n",
        "\n",
        "\n"
      ],
      "metadata": {
        "id": "z1nEasUTg2kA"
      },
      "execution_count": null,
      "outputs": []
    },
    {
      "cell_type": "code",
      "source": [
        "from tensorflow.keras.models import Sequential\n",
        "from tensorflow.keras.layers import Dense\n",
        "\n",
        "# Define the ANN model\n",
        "def build_ann_model():\n",
        "    model = Sequential([\n",
        "        Dense(64, activation='relu', input_shape=(X_ann_scaled.shape[1],)),\n",
        "        Dense(32, activation='relu'),\n",
        "        Dense(1, activation='linear')\n",
        "    ])\n",
        "    model.compile(optimizer='adam', loss='mean_squared_error', metrics=['mean_absolute_error'])\n",
        "    return model\n",
        "\n",
        "# Train the ANN model\n",
        "ann_model = build_ann_model()\n",
        "history = ann_model.fit(X_ann_scaled, y_ann_scaled, epochs=100, validation_split=0.2)\n"
      ],
      "metadata": {
        "id": "p0wt6ttuhJU8",
        "colab": {
          "base_uri": "https://localhost:8080/"
        },
        "outputId": "d3f91ad3-86d0-4e71-f203-4b066e1d2485"
      },
      "execution_count": null,
      "outputs": [
        {
          "output_type": "stream",
          "name": "stdout",
          "text": [
            "Epoch 1/100\n"
          ]
        },
        {
          "output_type": "stream",
          "name": "stderr",
          "text": [
            "/usr/local/lib/python3.10/dist-packages/keras/src/layers/core/dense.py:87: UserWarning: Do not pass an `input_shape`/`input_dim` argument to a layer. When using Sequential models, prefer using an `Input(shape)` object as the first layer in the model instead.\n",
            "  super().__init__(activity_regularizer=activity_regularizer, **kwargs)\n"
          ]
        },
        {
          "output_type": "stream",
          "name": "stdout",
          "text": [
            "\u001b[1m1/1\u001b[0m \u001b[32m━━━━━━━━━━━━━━━━━━━━\u001b[0m\u001b[37m\u001b[0m \u001b[1m2s\u001b[0m 2s/step - loss: 0.4054 - mean_absolute_error: 0.5586 - val_loss: 3.1823 - val_mean_absolute_error: 1.1396\n",
            "Epoch 2/100\n",
            "\u001b[1m1/1\u001b[0m \u001b[32m━━━━━━━━━━━━━━━━━━━━\u001b[0m\u001b[37m\u001b[0m \u001b[1m0s\u001b[0m 343ms/step - loss: 0.3532 - mean_absolute_error: 0.5256 - val_loss: 2.9280 - val_mean_absolute_error: 1.0902\n",
            "Epoch 3/100\n",
            "\u001b[1m1/1\u001b[0m \u001b[32m━━━━━━━━━━━━━━━━━━━━\u001b[0m\u001b[37m\u001b[0m \u001b[1m0s\u001b[0m 42ms/step - loss: 0.3059 - mean_absolute_error: 0.4926 - val_loss: 2.6865 - val_mean_absolute_error: 1.0401\n",
            "Epoch 4/100\n",
            "\u001b[1m1/1\u001b[0m \u001b[32m━━━━━━━━━━━━━━━━━━━━\u001b[0m\u001b[37m\u001b[0m \u001b[1m0s\u001b[0m 42ms/step - loss: 0.2632 - mean_absolute_error: 0.4601 - val_loss: 2.4506 - val_mean_absolute_error: 0.9889\n",
            "Epoch 5/100\n",
            "\u001b[1m1/1\u001b[0m \u001b[32m━━━━━━━━━━━━━━━━━━━━\u001b[0m\u001b[37m\u001b[0m \u001b[1m0s\u001b[0m 43ms/step - loss: 0.2246 - mean_absolute_error: 0.4276 - val_loss: 2.2291 - val_mean_absolute_error: 0.9388\n",
            "Epoch 6/100\n",
            "\u001b[1m1/1\u001b[0m \u001b[32m━━━━━━━━━━━━━━━━━━━━\u001b[0m\u001b[37m\u001b[0m \u001b[1m0s\u001b[0m 43ms/step - loss: 0.1901 - mean_absolute_error: 0.3952 - val_loss: 2.0219 - val_mean_absolute_error: 0.8891\n",
            "Epoch 7/100\n",
            "\u001b[1m1/1\u001b[0m \u001b[32m━━━━━━━━━━━━━━━━━━━━\u001b[0m\u001b[37m\u001b[0m \u001b[1m0s\u001b[0m 52ms/step - loss: 0.1599 - mean_absolute_error: 0.3632 - val_loss: 1.8291 - val_mean_absolute_error: 0.8395\n",
            "Epoch 8/100\n",
            "\u001b[1m1/1\u001b[0m \u001b[32m━━━━━━━━━━━━━━━━━━━━\u001b[0m\u001b[37m\u001b[0m \u001b[1m0s\u001b[0m 51ms/step - loss: 0.1335 - mean_absolute_error: 0.3341 - val_loss: 1.6509 - val_mean_absolute_error: 0.7907\n",
            "Epoch 9/100\n",
            "\u001b[1m1/1\u001b[0m \u001b[32m━━━━━━━━━━━━━━━━━━━━\u001b[0m\u001b[37m\u001b[0m \u001b[1m0s\u001b[0m 43ms/step - loss: 0.1104 - mean_absolute_error: 0.3080 - val_loss: 1.4878 - val_mean_absolute_error: 0.7428\n",
            "Epoch 10/100\n",
            "\u001b[1m1/1\u001b[0m \u001b[32m━━━━━━━━━━━━━━━━━━━━\u001b[0m\u001b[37m\u001b[0m \u001b[1m0s\u001b[0m 42ms/step - loss: 0.0914 - mean_absolute_error: 0.2822 - val_loss: 1.3413 - val_mean_absolute_error: 0.6964\n",
            "Epoch 11/100\n",
            "\u001b[1m1/1\u001b[0m \u001b[32m━━━━━━━━━━━━━━━━━━━━\u001b[0m\u001b[37m\u001b[0m \u001b[1m0s\u001b[0m 47ms/step - loss: 0.0761 - mean_absolute_error: 0.2568 - val_loss: 1.2110 - val_mean_absolute_error: 0.6516\n",
            "Epoch 12/100\n",
            "\u001b[1m1/1\u001b[0m \u001b[32m━━━━━━━━━━━━━━━━━━━━\u001b[0m\u001b[37m\u001b[0m \u001b[1m0s\u001b[0m 55ms/step - loss: 0.0639 - mean_absolute_error: 0.2321 - val_loss: 1.0965 - val_mean_absolute_error: 0.6090\n",
            "Epoch 13/100\n",
            "\u001b[1m1/1\u001b[0m \u001b[32m━━━━━━━━━━━━━━━━━━━━\u001b[0m\u001b[37m\u001b[0m \u001b[1m0s\u001b[0m 44ms/step - loss: 0.0545 - mean_absolute_error: 0.2114 - val_loss: 0.9976 - val_mean_absolute_error: 0.5686\n",
            "Epoch 14/100\n",
            "\u001b[1m1/1\u001b[0m \u001b[32m━━━━━━━━━━━━━━━━━━━━\u001b[0m\u001b[37m\u001b[0m \u001b[1m0s\u001b[0m 42ms/step - loss: 0.0473 - mean_absolute_error: 0.1968 - val_loss: 0.9137 - val_mean_absolute_error: 0.5310\n",
            "Epoch 15/100\n",
            "\u001b[1m1/1\u001b[0m \u001b[32m━━━━━━━━━━━━━━━━━━━━\u001b[0m\u001b[37m\u001b[0m \u001b[1m0s\u001b[0m 41ms/step - loss: 0.0417 - mean_absolute_error: 0.1819 - val_loss: 0.8456 - val_mean_absolute_error: 0.4978\n",
            "Epoch 16/100\n",
            "\u001b[1m1/1\u001b[0m \u001b[32m━━━━━━━━━━━━━━━━━━━━\u001b[0m\u001b[37m\u001b[0m \u001b[1m0s\u001b[0m 48ms/step - loss: 0.0375 - mean_absolute_error: 0.1668 - val_loss: 0.7904 - val_mean_absolute_error: 0.4685\n",
            "Epoch 17/100\n",
            "\u001b[1m1/1\u001b[0m \u001b[32m━━━━━━━━━━━━━━━━━━━━\u001b[0m\u001b[37m\u001b[0m \u001b[1m0s\u001b[0m 49ms/step - loss: 0.0339 - mean_absolute_error: 0.1510 - val_loss: 0.7465 - val_mean_absolute_error: 0.4418\n",
            "Epoch 18/100\n",
            "\u001b[1m1/1\u001b[0m \u001b[32m━━━━━━━━━━━━━━━━━━━━\u001b[0m\u001b[37m\u001b[0m \u001b[1m0s\u001b[0m 66ms/step - loss: 0.0310 - mean_absolute_error: 0.1358 - val_loss: 0.7131 - val_mean_absolute_error: 0.4180\n",
            "Epoch 19/100\n",
            "\u001b[1m1/1\u001b[0m \u001b[32m━━━━━━━━━━━━━━━━━━━━\u001b[0m\u001b[37m\u001b[0m \u001b[1m0s\u001b[0m 51ms/step - loss: 0.0284 - mean_absolute_error: 0.1233 - val_loss: 0.6876 - val_mean_absolute_error: 0.4010\n",
            "Epoch 20/100\n",
            "\u001b[1m1/1\u001b[0m \u001b[32m━━━━━━━━━━━━━━━━━━━━\u001b[0m\u001b[37m\u001b[0m \u001b[1m0s\u001b[0m 56ms/step - loss: 0.0263 - mean_absolute_error: 0.1114 - val_loss: 0.6696 - val_mean_absolute_error: 0.3911\n",
            "Epoch 21/100\n",
            "\u001b[1m1/1\u001b[0m \u001b[32m━━━━━━━━━━━━━━━━━━━━\u001b[0m\u001b[37m\u001b[0m \u001b[1m0s\u001b[0m 127ms/step - loss: 0.0245 - mean_absolute_error: 0.1064 - val_loss: 0.6579 - val_mean_absolute_error: 0.3831\n",
            "Epoch 22/100\n",
            "\u001b[1m1/1\u001b[0m \u001b[32m━━━━━━━━━━━━━━━━━━━━\u001b[0m\u001b[37m\u001b[0m \u001b[1m0s\u001b[0m 55ms/step - loss: 0.0231 - mean_absolute_error: 0.1047 - val_loss: 0.6558 - val_mean_absolute_error: 0.3779\n",
            "Epoch 23/100\n",
            "\u001b[1m1/1\u001b[0m \u001b[32m━━━━━━━━━━━━━━━━━━━━\u001b[0m\u001b[37m\u001b[0m \u001b[1m0s\u001b[0m 56ms/step - loss: 0.0219 - mean_absolute_error: 0.1039 - val_loss: 0.6581 - val_mean_absolute_error: 0.3787\n",
            "Epoch 24/100\n",
            "\u001b[1m1/1\u001b[0m \u001b[32m━━━━━━━━━━━━━━━━━━━━\u001b[0m\u001b[37m\u001b[0m \u001b[1m0s\u001b[0m 60ms/step - loss: 0.0210 - mean_absolute_error: 0.1046 - val_loss: 0.6606 - val_mean_absolute_error: 0.3795\n",
            "Epoch 25/100\n",
            "\u001b[1m1/1\u001b[0m \u001b[32m━━━━━━━━━━━━━━━━━━━━\u001b[0m\u001b[37m\u001b[0m \u001b[1m0s\u001b[0m 152ms/step - loss: 0.0203 - mean_absolute_error: 0.1068 - val_loss: 0.6632 - val_mean_absolute_error: 0.3803\n",
            "Epoch 26/100\n",
            "\u001b[1m1/1\u001b[0m \u001b[32m━━━━━━━━━━━━━━━━━━━━\u001b[0m\u001b[37m\u001b[0m \u001b[1m0s\u001b[0m 67ms/step - loss: 0.0197 - mean_absolute_error: 0.1084 - val_loss: 0.6652 - val_mean_absolute_error: 0.3810\n",
            "Epoch 27/100\n",
            "\u001b[1m1/1\u001b[0m \u001b[32m━━━━━━━━━━━━━━━━━━━━\u001b[0m\u001b[37m\u001b[0m \u001b[1m0s\u001b[0m 153ms/step - loss: 0.0190 - mean_absolute_error: 0.1093 - val_loss: 0.6660 - val_mean_absolute_error: 0.3816\n",
            "Epoch 28/100\n",
            "\u001b[1m1/1\u001b[0m \u001b[32m━━━━━━━━━━━━━━━━━━━━\u001b[0m\u001b[37m\u001b[0m \u001b[1m0s\u001b[0m 130ms/step - loss: 0.0183 - mean_absolute_error: 0.1091 - val_loss: 0.6650 - val_mean_absolute_error: 0.3819\n",
            "Epoch 29/100\n",
            "\u001b[1m1/1\u001b[0m \u001b[32m━━━━━━━━━━━━━━━━━━━━\u001b[0m\u001b[37m\u001b[0m \u001b[1m0s\u001b[0m 120ms/step - loss: 0.0174 - mean_absolute_error: 0.1071 - val_loss: 0.6618 - val_mean_absolute_error: 0.3810\n",
            "Epoch 30/100\n",
            "\u001b[1m1/1\u001b[0m \u001b[32m━━━━━━━━━━━━━━━━━━━━\u001b[0m\u001b[37m\u001b[0m \u001b[1m0s\u001b[0m 78ms/step - loss: 0.0164 - mean_absolute_error: 0.1036 - val_loss: 0.6571 - val_mean_absolute_error: 0.3800\n",
            "Epoch 31/100\n",
            "\u001b[1m1/1\u001b[0m \u001b[32m━━━━━━━━━━━━━━━━━━━━\u001b[0m\u001b[37m\u001b[0m \u001b[1m0s\u001b[0m 56ms/step - loss: 0.0153 - mean_absolute_error: 0.0990 - val_loss: 0.6510 - val_mean_absolute_error: 0.3789\n",
            "Epoch 32/100\n",
            "\u001b[1m1/1\u001b[0m \u001b[32m━━━━━━━━━━━━━━━━━━━━\u001b[0m\u001b[37m\u001b[0m \u001b[1m0s\u001b[0m 146ms/step - loss: 0.0141 - mean_absolute_error: 0.0934 - val_loss: 0.6433 - val_mean_absolute_error: 0.3774\n",
            "Epoch 33/100\n",
            "\u001b[1m1/1\u001b[0m \u001b[32m━━━━━━━━━━━━━━━━━━━━\u001b[0m\u001b[37m\u001b[0m \u001b[1m0s\u001b[0m 135ms/step - loss: 0.0130 - mean_absolute_error: 0.0884 - val_loss: 0.6342 - val_mean_absolute_error: 0.3754\n",
            "Epoch 34/100\n",
            "\u001b[1m1/1\u001b[0m \u001b[32m━━━━━━━━━━━━━━━━━━━━\u001b[0m\u001b[37m\u001b[0m \u001b[1m0s\u001b[0m 64ms/step - loss: 0.0120 - mean_absolute_error: 0.0838 - val_loss: 0.6253 - val_mean_absolute_error: 0.3734\n",
            "Epoch 35/100\n",
            "\u001b[1m1/1\u001b[0m \u001b[32m━━━━━━━━━━━━━━━━━━━━\u001b[0m\u001b[37m\u001b[0m \u001b[1m0s\u001b[0m 56ms/step - loss: 0.0110 - mean_absolute_error: 0.0800 - val_loss: 0.6143 - val_mean_absolute_error: 0.3706\n",
            "Epoch 36/100\n",
            "\u001b[1m1/1\u001b[0m \u001b[32m━━━━━━━━━━━━━━━━━━━━\u001b[0m\u001b[37m\u001b[0m \u001b[1m0s\u001b[0m 137ms/step - loss: 0.0101 - mean_absolute_error: 0.0761 - val_loss: 0.6020 - val_mean_absolute_error: 0.3674\n",
            "Epoch 37/100\n",
            "\u001b[1m1/1\u001b[0m \u001b[32m━━━━━━━━━━━━━━━━━━━━\u001b[0m\u001b[37m\u001b[0m \u001b[1m0s\u001b[0m 151ms/step - loss: 0.0093 - mean_absolute_error: 0.0722 - val_loss: 0.5879 - val_mean_absolute_error: 0.3664\n",
            "Epoch 38/100\n",
            "\u001b[1m1/1\u001b[0m \u001b[32m━━━━━━━━━━━━━━━━━━━━\u001b[0m\u001b[37m\u001b[0m \u001b[1m0s\u001b[0m 118ms/step - loss: 0.0085 - mean_absolute_error: 0.0678 - val_loss: 0.5688 - val_mean_absolute_error: 0.3639\n",
            "Epoch 39/100\n",
            "\u001b[1m1/1\u001b[0m \u001b[32m━━━━━━━━━━━━━━━━━━━━\u001b[0m\u001b[37m\u001b[0m \u001b[1m0s\u001b[0m 134ms/step - loss: 0.0079 - mean_absolute_error: 0.0631 - val_loss: 0.5489 - val_mean_absolute_error: 0.3608\n",
            "Epoch 40/100\n",
            "\u001b[1m1/1\u001b[0m \u001b[32m━━━━━━━━━━━━━━━━━━━━\u001b[0m\u001b[37m\u001b[0m \u001b[1m0s\u001b[0m 142ms/step - loss: 0.0073 - mean_absolute_error: 0.0589 - val_loss: 0.5297 - val_mean_absolute_error: 0.3574\n",
            "Epoch 41/100\n",
            "\u001b[1m1/1\u001b[0m \u001b[32m━━━━━━━━━━━━━━━━━━━━\u001b[0m\u001b[37m\u001b[0m \u001b[1m0s\u001b[0m 130ms/step - loss: 0.0067 - mean_absolute_error: 0.0561 - val_loss: 0.5121 - val_mean_absolute_error: 0.3539\n",
            "Epoch 42/100\n",
            "\u001b[1m1/1\u001b[0m \u001b[32m━━━━━━━━━━━━━━━━━━━━\u001b[0m\u001b[37m\u001b[0m \u001b[1m0s\u001b[0m 62ms/step - loss: 0.0063 - mean_absolute_error: 0.0530 - val_loss: 0.4963 - val_mean_absolute_error: 0.3506\n",
            "Epoch 43/100\n",
            "\u001b[1m1/1\u001b[0m \u001b[32m━━━━━━━━━━━━━━━━━━━━\u001b[0m\u001b[37m\u001b[0m \u001b[1m0s\u001b[0m 148ms/step - loss: 0.0058 - mean_absolute_error: 0.0498 - val_loss: 0.4824 - val_mean_absolute_error: 0.3474\n",
            "Epoch 44/100\n",
            "\u001b[1m1/1\u001b[0m \u001b[32m━━━━━━━━━━━━━━━━━━━━\u001b[0m\u001b[37m\u001b[0m \u001b[1m0s\u001b[0m 121ms/step - loss: 0.0055 - mean_absolute_error: 0.0477 - val_loss: 0.4705 - val_mean_absolute_error: 0.3443\n",
            "Epoch 45/100\n",
            "\u001b[1m1/1\u001b[0m \u001b[32m━━━━━━━━━━━━━━━━━━━━\u001b[0m\u001b[37m\u001b[0m \u001b[1m0s\u001b[0m 73ms/step - loss: 0.0052 - mean_absolute_error: 0.0461 - val_loss: 0.4604 - val_mean_absolute_error: 0.3413\n",
            "Epoch 46/100\n",
            "\u001b[1m1/1\u001b[0m \u001b[32m━━━━━━━━━━━━━━━━━━━━\u001b[0m\u001b[37m\u001b[0m \u001b[1m0s\u001b[0m 76ms/step - loss: 0.0049 - mean_absolute_error: 0.0450 - val_loss: 0.4521 - val_mean_absolute_error: 0.3397\n",
            "Epoch 47/100\n",
            "\u001b[1m1/1\u001b[0m \u001b[32m━━━━━━━━━━━━━━━━━━━━\u001b[0m\u001b[37m\u001b[0m \u001b[1m0s\u001b[0m 70ms/step - loss: 0.0047 - mean_absolute_error: 0.0443 - val_loss: 0.4455 - val_mean_absolute_error: 0.3388\n",
            "Epoch 48/100\n",
            "\u001b[1m1/1\u001b[0m \u001b[32m━━━━━━━━━━━━━━━━━━━━\u001b[0m\u001b[37m\u001b[0m \u001b[1m0s\u001b[0m 161ms/step - loss: 0.0045 - mean_absolute_error: 0.0452 - val_loss: 0.4405 - val_mean_absolute_error: 0.3379\n",
            "Epoch 49/100\n",
            "\u001b[1m1/1\u001b[0m \u001b[32m━━━━━━━━━━━━━━━━━━━━\u001b[0m\u001b[37m\u001b[0m \u001b[1m0s\u001b[0m 64ms/step - loss: 0.0043 - mean_absolute_error: 0.0455 - val_loss: 0.4368 - val_mean_absolute_error: 0.3369\n",
            "Epoch 50/100\n",
            "\u001b[1m1/1\u001b[0m \u001b[32m━━━━━━━━━━━━━━━━━━━━\u001b[0m\u001b[37m\u001b[0m \u001b[1m0s\u001b[0m 65ms/step - loss: 0.0041 - mean_absolute_error: 0.0454 - val_loss: 0.4341 - val_mean_absolute_error: 0.3358\n",
            "Epoch 51/100\n",
            "\u001b[1m1/1\u001b[0m \u001b[32m━━━━━━━━━━━━━━━━━━━━\u001b[0m\u001b[37m\u001b[0m \u001b[1m0s\u001b[0m 134ms/step - loss: 0.0040 - mean_absolute_error: 0.0449 - val_loss: 0.4323 - val_mean_absolute_error: 0.3347\n",
            "Epoch 52/100\n",
            "\u001b[1m1/1\u001b[0m \u001b[32m━━━━━━━━━━━━━━━━━━━━\u001b[0m\u001b[37m\u001b[0m \u001b[1m0s\u001b[0m 122ms/step - loss: 0.0038 - mean_absolute_error: 0.0441 - val_loss: 0.4311 - val_mean_absolute_error: 0.3335\n",
            "Epoch 53/100\n",
            "\u001b[1m1/1\u001b[0m \u001b[32m━━━━━━━━━━━━━━━━━━━━\u001b[0m\u001b[37m\u001b[0m \u001b[1m0s\u001b[0m 42ms/step - loss: 0.0036 - mean_absolute_error: 0.0434 - val_loss: 0.4303 - val_mean_absolute_error: 0.3322\n",
            "Epoch 54/100\n",
            "\u001b[1m1/1\u001b[0m \u001b[32m━━━━━━━━━━━━━━━━━━━━\u001b[0m\u001b[37m\u001b[0m \u001b[1m0s\u001b[0m 54ms/step - loss: 0.0033 - mean_absolute_error: 0.0424 - val_loss: 0.4298 - val_mean_absolute_error: 0.3308\n",
            "Epoch 55/100\n",
            "\u001b[1m1/1\u001b[0m \u001b[32m━━━━━━━━━━━━━━━━━━━━\u001b[0m\u001b[37m\u001b[0m \u001b[1m0s\u001b[0m 42ms/step - loss: 0.0031 - mean_absolute_error: 0.0411 - val_loss: 0.4293 - val_mean_absolute_error: 0.3293\n",
            "Epoch 56/100\n",
            "\u001b[1m1/1\u001b[0m \u001b[32m━━━━━━━━━━━━━━━━━━━━\u001b[0m\u001b[37m\u001b[0m \u001b[1m0s\u001b[0m 61ms/step - loss: 0.0028 - mean_absolute_error: 0.0395 - val_loss: 0.4289 - val_mean_absolute_error: 0.3277\n",
            "Epoch 57/100\n",
            "\u001b[1m1/1\u001b[0m \u001b[32m━━━━━━━━━━━━━━━━━━━━\u001b[0m\u001b[37m\u001b[0m \u001b[1m0s\u001b[0m 54ms/step - loss: 0.0026 - mean_absolute_error: 0.0378 - val_loss: 0.4282 - val_mean_absolute_error: 0.3260\n",
            "Epoch 58/100\n",
            "\u001b[1m1/1\u001b[0m \u001b[32m━━━━━━━━━━━━━━━━━━━━\u001b[0m\u001b[37m\u001b[0m \u001b[1m0s\u001b[0m 51ms/step - loss: 0.0024 - mean_absolute_error: 0.0363 - val_loss: 0.4273 - val_mean_absolute_error: 0.3241\n",
            "Epoch 59/100\n",
            "\u001b[1m1/1\u001b[0m \u001b[32m━━━━━━━━━━━━━━━━━━━━\u001b[0m\u001b[37m\u001b[0m \u001b[1m0s\u001b[0m 72ms/step - loss: 0.0022 - mean_absolute_error: 0.0348 - val_loss: 0.4261 - val_mean_absolute_error: 0.3222\n",
            "Epoch 60/100\n",
            "\u001b[1m1/1\u001b[0m \u001b[32m━━━━━━━━━━━━━━━━━━━━\u001b[0m\u001b[37m\u001b[0m \u001b[1m0s\u001b[0m 42ms/step - loss: 0.0021 - mean_absolute_error: 0.0337 - val_loss: 0.4243 - val_mean_absolute_error: 0.3200\n",
            "Epoch 61/100\n",
            "\u001b[1m1/1\u001b[0m \u001b[32m━━━━━━━━━━━━━━━━━━━━\u001b[0m\u001b[37m\u001b[0m \u001b[1m0s\u001b[0m 56ms/step - loss: 0.0020 - mean_absolute_error: 0.0332 - val_loss: 0.4221 - val_mean_absolute_error: 0.3184\n",
            "Epoch 62/100\n",
            "\u001b[1m1/1\u001b[0m \u001b[32m━━━━━━━━━━━━━━━━━━━━\u001b[0m\u001b[37m\u001b[0m \u001b[1m0s\u001b[0m 43ms/step - loss: 0.0019 - mean_absolute_error: 0.0325 - val_loss: 0.4194 - val_mean_absolute_error: 0.3169\n",
            "Epoch 63/100\n",
            "\u001b[1m1/1\u001b[0m \u001b[32m━━━━━━━━━━━━━━━━━━━━\u001b[0m\u001b[37m\u001b[0m \u001b[1m0s\u001b[0m 42ms/step - loss: 0.0018 - mean_absolute_error: 0.0319 - val_loss: 0.4162 - val_mean_absolute_error: 0.3153\n",
            "Epoch 64/100\n",
            "\u001b[1m1/1\u001b[0m \u001b[32m━━━━━━━━━━━━━━━━━━━━\u001b[0m\u001b[37m\u001b[0m \u001b[1m0s\u001b[0m 44ms/step - loss: 0.0017 - mean_absolute_error: 0.0312 - val_loss: 0.4125 - val_mean_absolute_error: 0.3136\n",
            "Epoch 65/100\n",
            "\u001b[1m1/1\u001b[0m \u001b[32m━━━━━━━━━━━━━━━━━━━━\u001b[0m\u001b[37m\u001b[0m \u001b[1m0s\u001b[0m 42ms/step - loss: 0.0016 - mean_absolute_error: 0.0308 - val_loss: 0.4083 - val_mean_absolute_error: 0.3117\n",
            "Epoch 66/100\n",
            "\u001b[1m1/1\u001b[0m \u001b[32m━━━━━━━━━━━━━━━━━━━━\u001b[0m\u001b[37m\u001b[0m \u001b[1m0s\u001b[0m 41ms/step - loss: 0.0016 - mean_absolute_error: 0.0303 - val_loss: 0.4030 - val_mean_absolute_error: 0.3095\n",
            "Epoch 67/100\n",
            "\u001b[1m1/1\u001b[0m \u001b[32m━━━━━━━━━━━━━━━━━━━━\u001b[0m\u001b[37m\u001b[0m \u001b[1m0s\u001b[0m 55ms/step - loss: 0.0015 - mean_absolute_error: 0.0297 - val_loss: 0.3975 - val_mean_absolute_error: 0.3073\n",
            "Epoch 68/100\n",
            "\u001b[1m1/1\u001b[0m \u001b[32m━━━━━━━━━━━━━━━━━━━━\u001b[0m\u001b[37m\u001b[0m \u001b[1m0s\u001b[0m 58ms/step - loss: 0.0014 - mean_absolute_error: 0.0290 - val_loss: 0.3919 - val_mean_absolute_error: 0.3050\n",
            "Epoch 69/100\n",
            "\u001b[1m1/1\u001b[0m \u001b[32m━━━━━━━━━━━━━━━━━━━━\u001b[0m\u001b[37m\u001b[0m \u001b[1m0s\u001b[0m 54ms/step - loss: 0.0014 - mean_absolute_error: 0.0282 - val_loss: 0.3862 - val_mean_absolute_error: 0.3028\n",
            "Epoch 70/100\n",
            "\u001b[1m1/1\u001b[0m \u001b[32m━━━━━━━━━━━━━━━━━━━━\u001b[0m\u001b[37m\u001b[0m \u001b[1m0s\u001b[0m 57ms/step - loss: 0.0013 - mean_absolute_error: 0.0273 - val_loss: 0.3804 - val_mean_absolute_error: 0.3006\n",
            "Epoch 71/100\n",
            "\u001b[1m1/1\u001b[0m \u001b[32m━━━━━━━━━━━━━━━━━━━━\u001b[0m\u001b[37m\u001b[0m \u001b[1m0s\u001b[0m 55ms/step - loss: 0.0013 - mean_absolute_error: 0.0265 - val_loss: 0.3746 - val_mean_absolute_error: 0.2985\n",
            "Epoch 72/100\n",
            "\u001b[1m1/1\u001b[0m \u001b[32m━━━━━━━━━━━━━━━━━━━━\u001b[0m\u001b[37m\u001b[0m \u001b[1m0s\u001b[0m 43ms/step - loss: 0.0012 - mean_absolute_error: 0.0258 - val_loss: 0.3687 - val_mean_absolute_error: 0.2964\n",
            "Epoch 73/100\n",
            "\u001b[1m1/1\u001b[0m \u001b[32m━━━━━━━━━━━━━━━━━━━━\u001b[0m\u001b[37m\u001b[0m \u001b[1m0s\u001b[0m 59ms/step - loss: 0.0012 - mean_absolute_error: 0.0254 - val_loss: 0.3629 - val_mean_absolute_error: 0.2945\n",
            "Epoch 74/100\n",
            "\u001b[1m1/1\u001b[0m \u001b[32m━━━━━━━━━━━━━━━━━━━━\u001b[0m\u001b[37m\u001b[0m \u001b[1m0s\u001b[0m 61ms/step - loss: 0.0011 - mean_absolute_error: 0.0251 - val_loss: 0.3573 - val_mean_absolute_error: 0.2927\n",
            "Epoch 75/100\n",
            "\u001b[1m1/1\u001b[0m \u001b[32m━━━━━━━━━━━━━━━━━━━━\u001b[0m\u001b[37m\u001b[0m \u001b[1m0s\u001b[0m 131ms/step - loss: 0.0011 - mean_absolute_error: 0.0247 - val_loss: 0.3519 - val_mean_absolute_error: 0.2912\n",
            "Epoch 76/100\n",
            "\u001b[1m1/1\u001b[0m \u001b[32m━━━━━━━━━━━━━━━━━━━━\u001b[0m\u001b[37m\u001b[0m \u001b[1m0s\u001b[0m 55ms/step - loss: 0.0010 - mean_absolute_error: 0.0241 - val_loss: 0.3468 - val_mean_absolute_error: 0.2898\n",
            "Epoch 77/100\n",
            "\u001b[1m1/1\u001b[0m \u001b[32m━━━━━━━━━━━━━━━━━━━━\u001b[0m\u001b[37m\u001b[0m \u001b[1m0s\u001b[0m 56ms/step - loss: 9.7608e-04 - mean_absolute_error: 0.0235 - val_loss: 0.3421 - val_mean_absolute_error: 0.2886\n",
            "Epoch 78/100\n",
            "\u001b[1m1/1\u001b[0m \u001b[32m━━━━━━━━━━━━━━━━━━━━\u001b[0m\u001b[37m\u001b[0m \u001b[1m0s\u001b[0m 45ms/step - loss: 9.3151e-04 - mean_absolute_error: 0.0227 - val_loss: 0.3379 - val_mean_absolute_error: 0.2876\n",
            "Epoch 79/100\n",
            "\u001b[1m1/1\u001b[0m \u001b[32m━━━━━━━━━━━━━━━━━━━━\u001b[0m\u001b[37m\u001b[0m \u001b[1m0s\u001b[0m 42ms/step - loss: 8.8979e-04 - mean_absolute_error: 0.0220 - val_loss: 0.3341 - val_mean_absolute_error: 0.2868\n",
            "Epoch 80/100\n",
            "\u001b[1m1/1\u001b[0m \u001b[32m━━━━━━━━━━━━━━━━━━━━\u001b[0m\u001b[37m\u001b[0m \u001b[1m0s\u001b[0m 57ms/step - loss: 8.5086e-04 - mean_absolute_error: 0.0213 - val_loss: 0.3309 - val_mean_absolute_error: 0.2860\n",
            "Epoch 81/100\n",
            "\u001b[1m1/1\u001b[0m \u001b[32m━━━━━━━━━━━━━━━━━━━━\u001b[0m\u001b[37m\u001b[0m \u001b[1m0s\u001b[0m 43ms/step - loss: 8.1494e-04 - mean_absolute_error: 0.0206 - val_loss: 0.3282 - val_mean_absolute_error: 0.2854\n",
            "Epoch 82/100\n",
            "\u001b[1m1/1\u001b[0m \u001b[32m━━━━━━━━━━━━━━━━━━━━\u001b[0m\u001b[37m\u001b[0m \u001b[1m0s\u001b[0m 57ms/step - loss: 7.8204e-04 - mean_absolute_error: 0.0201 - val_loss: 0.3259 - val_mean_absolute_error: 0.2850\n",
            "Epoch 83/100\n",
            "\u001b[1m1/1\u001b[0m \u001b[32m━━━━━━━━━━━━━━━━━━━━\u001b[0m\u001b[37m\u001b[0m \u001b[1m0s\u001b[0m 44ms/step - loss: 7.5378e-04 - mean_absolute_error: 0.0198 - val_loss: 0.3241 - val_mean_absolute_error: 0.2846\n",
            "Epoch 84/100\n",
            "\u001b[1m1/1\u001b[0m \u001b[32m━━━━━━━━━━━━━━━━━━━━\u001b[0m\u001b[37m\u001b[0m \u001b[1m0s\u001b[0m 43ms/step - loss: 7.2885e-04 - mean_absolute_error: 0.0196 - val_loss: 0.3227 - val_mean_absolute_error: 0.2843\n",
            "Epoch 85/100\n",
            "\u001b[1m1/1\u001b[0m \u001b[32m━━━━━━━━━━━━━━━━━━━━\u001b[0m\u001b[37m\u001b[0m \u001b[1m0s\u001b[0m 43ms/step - loss: 7.0587e-04 - mean_absolute_error: 0.0195 - val_loss: 0.3215 - val_mean_absolute_error: 0.2841\n",
            "Epoch 86/100\n",
            "\u001b[1m1/1\u001b[0m \u001b[32m━━━━━━━━━━━━━━━━━━━━\u001b[0m\u001b[37m\u001b[0m \u001b[1m0s\u001b[0m 57ms/step - loss: 6.8402e-04 - mean_absolute_error: 0.0193 - val_loss: 0.3206 - val_mean_absolute_error: 0.2839\n",
            "Epoch 87/100\n",
            "\u001b[1m1/1\u001b[0m \u001b[32m━━━━━━━━━━━━━━━━━━━━\u001b[0m\u001b[37m\u001b[0m \u001b[1m0s\u001b[0m 55ms/step - loss: 6.6277e-04 - mean_absolute_error: 0.0191 - val_loss: 0.3198 - val_mean_absolute_error: 0.2837\n",
            "Epoch 88/100\n",
            "\u001b[1m1/1\u001b[0m \u001b[32m━━━━━━━━━━━━━━━━━━━━\u001b[0m\u001b[37m\u001b[0m \u001b[1m0s\u001b[0m 55ms/step - loss: 6.4175e-04 - mean_absolute_error: 0.0188 - val_loss: 0.3191 - val_mean_absolute_error: 0.2834\n",
            "Epoch 89/100\n",
            "\u001b[1m1/1\u001b[0m \u001b[32m━━━━━━━━━━━━━━━━━━━━\u001b[0m\u001b[37m\u001b[0m \u001b[1m0s\u001b[0m 42ms/step - loss: 6.2082e-04 - mean_absolute_error: 0.0185 - val_loss: 0.3185 - val_mean_absolute_error: 0.2832\n",
            "Epoch 90/100\n",
            "\u001b[1m1/1\u001b[0m \u001b[32m━━━━━━━━━━━━━━━━━━━━\u001b[0m\u001b[37m\u001b[0m \u001b[1m0s\u001b[0m 52ms/step - loss: 5.9999e-04 - mean_absolute_error: 0.0182 - val_loss: 0.3179 - val_mean_absolute_error: 0.2829\n",
            "Epoch 91/100\n",
            "\u001b[1m1/1\u001b[0m \u001b[32m━━━━━━━━━━━━━━━━━━━━\u001b[0m\u001b[37m\u001b[0m \u001b[1m0s\u001b[0m 63ms/step - loss: 5.7940e-04 - mean_absolute_error: 0.0178 - val_loss: 0.3172 - val_mean_absolute_error: 0.2826\n",
            "Epoch 92/100\n",
            "\u001b[1m1/1\u001b[0m \u001b[32m━━━━━━━━━━━━━━━━━━━━\u001b[0m\u001b[37m\u001b[0m \u001b[1m0s\u001b[0m 54ms/step - loss: 5.5928e-04 - mean_absolute_error: 0.0174 - val_loss: 0.3166 - val_mean_absolute_error: 0.2822\n",
            "Epoch 93/100\n",
            "\u001b[1m1/1\u001b[0m \u001b[32m━━━━━━━━━━━━━━━━━━━━\u001b[0m\u001b[37m\u001b[0m \u001b[1m0s\u001b[0m 53ms/step - loss: 5.3991e-04 - mean_absolute_error: 0.0171 - val_loss: 0.3159 - val_mean_absolute_error: 0.2819\n",
            "Epoch 94/100\n",
            "\u001b[1m1/1\u001b[0m \u001b[32m━━━━━━━━━━━━━━━━━━━━\u001b[0m\u001b[37m\u001b[0m \u001b[1m0s\u001b[0m 55ms/step - loss: 5.2131e-04 - mean_absolute_error: 0.0169 - val_loss: 0.3152 - val_mean_absolute_error: 0.2815\n",
            "Epoch 95/100\n",
            "\u001b[1m1/1\u001b[0m \u001b[32m━━━━━━━━━━━━━━━━━━━━\u001b[0m\u001b[37m\u001b[0m \u001b[1m0s\u001b[0m 53ms/step - loss: 5.0356e-04 - mean_absolute_error: 0.0166 - val_loss: 0.3146 - val_mean_absolute_error: 0.2811\n",
            "Epoch 96/100\n",
            "\u001b[1m1/1\u001b[0m \u001b[32m━━━━━━━━━━━━━━━━━━━━\u001b[0m\u001b[37m\u001b[0m \u001b[1m0s\u001b[0m 57ms/step - loss: 4.8691e-04 - mean_absolute_error: 0.0163 - val_loss: 0.3140 - val_mean_absolute_error: 0.2808\n",
            "Epoch 97/100\n",
            "\u001b[1m1/1\u001b[0m \u001b[32m━━━━━━━━━━━━━━━━━━━━\u001b[0m\u001b[37m\u001b[0m \u001b[1m0s\u001b[0m 45ms/step - loss: 4.7120e-04 - mean_absolute_error: 0.0160 - val_loss: 0.3134 - val_mean_absolute_error: 0.2805\n",
            "Epoch 98/100\n",
            "\u001b[1m1/1\u001b[0m \u001b[32m━━━━━━━━━━━━━━━━━━━━\u001b[0m\u001b[37m\u001b[0m \u001b[1m0s\u001b[0m 56ms/step - loss: 4.5629e-04 - mean_absolute_error: 0.0159 - val_loss: 0.3129 - val_mean_absolute_error: 0.2802\n",
            "Epoch 99/100\n",
            "\u001b[1m1/1\u001b[0m \u001b[32m━━━━━━━━━━━━━━━━━━━━\u001b[0m\u001b[37m\u001b[0m \u001b[1m0s\u001b[0m 54ms/step - loss: 4.4212e-04 - mean_absolute_error: 0.0157 - val_loss: 0.3125 - val_mean_absolute_error: 0.2799\n",
            "Epoch 100/100\n",
            "\u001b[1m1/1\u001b[0m \u001b[32m━━━━━━━━━━━━━━━━━━━━\u001b[0m\u001b[37m\u001b[0m \u001b[1m0s\u001b[0m 46ms/step - loss: 4.2860e-04 - mean_absolute_error: 0.0155 - val_loss: 0.3123 - val_mean_absolute_error: 0.2798\n"
          ]
        }
      ]
    },
    {
      "cell_type": "code",
      "source": [
        "from sklearn.metrics import mean_squared_error, mean_absolute_error, r2_score\n",
        "\n",
        "# Predict on test data\n",
        "y_pred_scaled = ann_model.predict(X_ann_scaled)\n",
        "y_pred = scaler_y.inverse_transform(y_pred_scaled)\n",
        "y_actual = scaler_y.inverse_transform(y_ann_scaled)\n",
        "\n",
        "# Calculate metrics\n",
        "mse = mean_squared_error(y_actual, y_pred)\n",
        "mae = mean_absolute_error(y_actual, y_pred)\n",
        "r2 = r2_score(y_actual, y_pred)\n",
        "\n",
        "\n",
        "print(f\"R² Score: {r2:.2f}\")\n"
      ],
      "metadata": {
        "colab": {
          "base_uri": "https://localhost:8080/"
        },
        "id": "MQ2gYoO14PEx",
        "outputId": "3df99b64-b2fe-4443-f8b3-04f906f5defd"
      },
      "execution_count": null,
      "outputs": [
        {
          "output_type": "stream",
          "name": "stdout",
          "text": [
            "\u001b[1m1/1\u001b[0m \u001b[32m━━━━━━━━━━━━━━━━━━━━\u001b[0m\u001b[37m\u001b[0m \u001b[1m0s\u001b[0m 324ms/step\n",
            "R² Score: 0.93\n"
          ]
        }
      ]
    },
    {
      "cell_type": "code",
      "source": [
        "# Save the ANN model\n",
        "ann_model.save('ann_calorie_model.h5')"
      ],
      "metadata": {
        "colab": {
          "base_uri": "https://localhost:8080/"
        },
        "id": "3q9rmsxb6ieI",
        "outputId": "0e725e57-311e-479c-e985-8e56f61f6e79"
      },
      "execution_count": null,
      "outputs": [
        {
          "output_type": "stream",
          "name": "stderr",
          "text": [
            "WARNING:absl:You are saving your model as an HDF5 file via `model.save()` or `keras.saving.save_model(model)`. This file format is considered legacy. We recommend using instead the native Keras format, e.g. `model.save('my_model.keras')` or `keras.saving.save_model(model, 'my_model.keras')`. \n"
          ]
        }
      ]
    },
    {
      "cell_type": "code",
      "source": [
        "def predict_nutrition(fruit_name):\n",
        "    # Get the index of the fruit\n",
        "    fruit_data = data[data['name'] == fruit_name]\n",
        "    if fruit_data.empty:\n",
        "        return \"Fruit not found in dataset\"\n",
        "\n",
        "    # Prepare ANN input features\n",
        "    features = fruit_data[['water (g)',\t'protein (g)',\t'total fat (g)',\t'carbohydrates (g)',\t'fiber (g)'\t,'sugars (g)'\t,'calcium (mg)',\t'iron (mg)',\t'magnessium (mg)',\t'phosphorus (mg)',\t'potassium (mg)',\t'sodium (g)']].values\n",
        "    features_scaled = scaler_X.transform(features)\n",
        "\n",
        "    # Predict calorie value using the ANN model\n",
        "    calorie_prediction_scaled = ann_model.predict(features_scaled)\n",
        "    calorie_prediction = scaler_y.inverse_transform(calorie_prediction_scaled)\n",
        "\n",
        "    return {\n",
        "        'Calorie (kcal)': round(calorie_prediction[0][0], 2),\n",
        "        'Water (g)': fruit_data['water (g)'].values[0],\n",
        "        'Protein (g)': fruit_data['protein (g)'].values[0],\n",
        "        'Fiber (g)': fruit_data['fiber (g)'].values[0],\n",
        "        'Sugar (g)': fruit_data['sugars (g)'].values[0],\n",
        "        'Carbohydrates (g)': fruit_data['carbohydrates (g)'].values[0],\n",
        "        'Total fat (g)': fruit_data['total fat (g)'].values[0]\n",
        "    }\n"
      ],
      "metadata": {
        "id": "EdPiDd4PhzCt"
      },
      "execution_count": null,
      "outputs": []
    },
    {
      "cell_type": "code",
      "source": [
        "import cv2\n",
        "import numpy as np\n",
        "import pandas as pd\n",
        "import pickle\n",
        "from tensorflow.keras.models import load_model\n",
        "from sklearn.preprocessing import StandardScaler\n",
        "\n",
        "# Load pre-trained models\n",
        "cnn_model = load_model('cnn_fruit_model.h5')\n",
        "ann_model = load_model('ann_calorie_model.h5')\n",
        "\n",
        "# Load Label Binarizer for decoding predictions\n",
        "with open('label_binarizer.pkl', 'rb') as file:\n",
        "    lb = pickle.load(file)\n",
        "\n",
        "# Load Excel file with nutritional data\n",
        "data = pd.read_csv('/content/fruits_updated.csv')\n",
        "\n",
        "# Initialize scaler (same scaler used during ANN model training)\n",
        "scaler_X = StandardScaler()\n",
        "scaler_y = StandardScaler()\n",
        "\n",
        "# Fit the scaler with nutritional data (excluding Fruit Name column)\n",
        "features = data[['water (g)',\t'protein (g)',\t'total fat (g)',\t'carbohydrates (g)',\t'fiber (g)'\t,'sugars (g)'\t,'calcium (mg)',\t'iron (mg)',\t'magnessium (mg)',\t'phosphorus (mg)',\t'potassium (mg)',\t'sodium (g)']]\n",
        "calories = data[['energy (kcal/kJ)']]\n",
        "scaler_X.fit(features)\n",
        "scaler_y.fit(calories)\n",
        "\n",
        "# Preprocess input image\n",
        "def preprocess_image(image_path):\n",
        "    IMG_SIZE = (100, 100)\n",
        "    image = cv2.imread(image_path)\n",
        "    image = cv2.resize(image, IMG_SIZE)\n",
        "    image = image / 255.0\n",
        "    return image.reshape(1, 100, 100, 3)\n",
        "\n",
        "@tf.function\n",
        "def predict_fruit(image):\n",
        "  prediction = cnn_model.predict(image)  # Get the prediction\n",
        "  return prediction[0]  # Return the first element (prediction for single image)\n",
        "\n",
        "\n",
        "\n",
        "# Define a function for predicting diet recommendation\n",
        "\n",
        "\n",
        "def predict_diet(image_path):\n",
        "    # Step 1: Preprocess the image\n",
        "    image = preprocess_image(image_path)\n",
        "\n",
        "    # Step 2: Classify the fruit using CNN model\n",
        "    fruit_pred = np.array(cnn_model.predict(image))  # Convert to NumPy array\n",
        "    fruit_label_idx = np.argmax(fruit_pred)  # Find the index of the highest prediction score\n",
        "    fruit_name = lb.classes_[fruit_label_idx]  # Get the fruit name from the label binarizer\n",
        "\n",
        "    # Step 3: Retrieve nutritional data based on predicted fruit label\n",
        "    if fruit_name not in data['name'].values:\n",
        "        return f\"Error: '{fruit_name}' not found in dataset. Please ensure folder names and Excel entries are consistent.\"\n",
        "\n",
        "    fruit_data = data[data['name'] == fruit_name]\n",
        "    features = fruit_data[['water (g)',\t'protein (g)',\t'total fat (g)',\t'carbohydrates (g)',\t'fiber (g)'\t,'sugars (g)'\t,'calcium (mg)',\t'iron (mg)',\t'magnessium (mg)',\t'phosphorus (mg)',\t'potassium (mg)',\t'sodium (g)']].values\n",
        "    features_scaled = scaler_X.transform(features)\n",
        "\n",
        "    # Step 4: Refine calorie prediction using ANN model\n",
        "    calorie_prediction_scaled = ann_model.predict(features_scaled)\n",
        "    refined_calorie_value = scaler_y.inverse_transform(calorie_prediction_scaled)[0][0]\n",
        "\n",
        "    # Step 5: Return predicted fruit and detailed nutritional information\n",
        "    return {\n",
        "        'Fruit Name': fruit_name,\n",
        "        'Calorie (kcal)': round(refined_calorie_value, 2),\n",
        "        'Water (g)': fruit_data['water (g)'].values[0],\n",
        "        'Protein (g)': fruit_data['protein (g)'].values[0],\n",
        "        'Fiber (g)': fruit_data['fiber (g)'].values[0],\n",
        "        'Sugar (g)': fruit_data['sugars (g)'].values[0],\n",
        "        'Carbohydrates (g)': fruit_data['carbohydrates (g)'].values[0],\n",
        "        'Total fat (g)': fruit_data['total fat (g)'].values[0],\n",
        "        'Sugars (g)': fruit_data['sugars (g)'].values[0],\n",
        "        'Calcium (mg)': fruit_data['calcium (mg)'].values[0],\n",
        "        'Iron (mg)': fruit_data['iron (mg)'].values[0],\n",
        "        'Magnesium (mg)': fruit_data['magnessium (mg)'].values[0],\n",
        "        'Phosphorus (mg)': fruit_data['phosphorus (mg)'].values[0],\n",
        "        'Potassium (mg)': fruit_data['potassium (mg)'].values[0],\n",
        "        'Sodium (g)': fruit_data['sodium (g)'].values[0]\n",
        "    }\n"
      ],
      "metadata": {
        "colab": {
          "base_uri": "https://localhost:8080/"
        },
        "id": "bSTjBWQ7h2vc",
        "outputId": "13780568-28ae-4b94-bf4b-958ad882131a"
      },
      "execution_count": null,
      "outputs": [
        {
          "output_type": "stream",
          "name": "stderr",
          "text": [
            "WARNING:absl:Compiled the loaded model, but the compiled metrics have yet to be built. `model.compile_metrics` will be empty until you train or evaluate the model.\n",
            "WARNING:absl:Compiled the loaded model, but the compiled metrics have yet to be built. `model.compile_metrics` will be empty until you train or evaluate the model.\n"
          ]
        }
      ]
    },
    {
      "cell_type": "code",
      "source": [
        "# Example usage\n",
        "result = predict_diet('watermelon1.jpg')\n",
        "print(result)"
      ],
      "metadata": {
        "id": "9KEK3ufGh8fC",
        "colab": {
          "base_uri": "https://localhost:8080/"
        },
        "outputId": "8d3f1197-a577-41d0-9c4c-6f3d1c23472a"
      },
      "execution_count": null,
      "outputs": [
        {
          "output_type": "stream",
          "name": "stdout",
          "text": [
            "\u001b[1m1/1\u001b[0m \u001b[32m━━━━━━━━━━━━━━━━━━━━\u001b[0m\u001b[37m\u001b[0m \u001b[1m0s\u001b[0m 54ms/step\n",
            "\u001b[1m1/1\u001b[0m \u001b[32m━━━━━━━━━━━━━━━━━━━━\u001b[0m\u001b[37m\u001b[0m \u001b[1m0s\u001b[0m 30ms/step\n",
            "{'Fruit Name': 'Watermelon 1', 'Calorie (kcal)': 28.2, 'Water (g)': 91.45, 'Protein (g)': 0.61, 'Fiber (g)': 0.4, 'Sugar (g)': 6.2, 'Carbohydrates (g)': 7.55, 'Total fat (g)': 0.15, 'Sugars (g)': 6.2, 'Calcium (mg)': 7, 'Iron (mg)': 0.24, 'Magnesium (mg)': 10, 'Phosphorus (mg)': 11, 'Potassium (mg)': 112, 'Sodium (g)': 1}\n"
          ]
        },
        {
          "output_type": "stream",
          "name": "stderr",
          "text": [
            "/usr/local/lib/python3.10/dist-packages/sklearn/base.py:493: UserWarning: X does not have valid feature names, but StandardScaler was fitted with feature names\n",
            "  warnings.warn(\n"
          ]
        }
      ]
    },
    {
      "cell_type": "code",
      "source": [
        "result = predict_diet('pineapple.jpg')\n",
        "print(result)"
      ],
      "metadata": {
        "id": "Pc4B53hLjHJt",
        "colab": {
          "base_uri": "https://localhost:8080/"
        },
        "outputId": "bb43acff-f81e-4726-f77d-cbd8849532be"
      },
      "execution_count": null,
      "outputs": [
        {
          "output_type": "stream",
          "name": "stdout",
          "text": [
            "\u001b[1m1/1\u001b[0m \u001b[32m━━━━━━━━━━━━━━━━━━━━\u001b[0m\u001b[37m\u001b[0m \u001b[1m0s\u001b[0m 27ms/step\n",
            "\u001b[1m1/1\u001b[0m \u001b[32m━━━━━━━━━━━━━━━━━━━━\u001b[0m\u001b[37m\u001b[0m \u001b[1m0s\u001b[0m 24ms/step\n",
            "{'Fruit Name': 'Pineapple 1', 'Calorie (kcal)': 53.05, 'Water (g)': 86.0, 'Protein (g)': 0.54, 'Fiber (g)': 1.4, 'Sugar (g)': 9.85, 'Carbohydrates (g)': 13.12, 'Total fat (g)': 0.12, 'Sugars (g)': 9.85, 'Calcium (mg)': 13, 'Iron (mg)': 0.29, 'Magnesium (mg)': 12, 'Phosphorus (mg)': 8, 'Potassium (mg)': 109, 'Sodium (g)': 1}\n"
          ]
        },
        {
          "output_type": "stream",
          "name": "stderr",
          "text": [
            "/usr/local/lib/python3.10/dist-packages/sklearn/base.py:493: UserWarning: X does not have valid feature names, but StandardScaler was fitted with feature names\n",
            "  warnings.warn(\n"
          ]
        }
      ]
    },
    {
      "cell_type": "code",
      "source": [
        "result = predict_diet('pear.jpg')\n",
        "print(result)"
      ],
      "metadata": {
        "id": "FX6a3cp1jK_P",
        "colab": {
          "base_uri": "https://localhost:8080/"
        },
        "outputId": "c554e3dc-7c6f-4c26-d261-75083ee76cca"
      },
      "execution_count": null,
      "outputs": [
        {
          "output_type": "stream",
          "name": "stdout",
          "text": [
            "\u001b[1m1/1\u001b[0m \u001b[32m━━━━━━━━━━━━━━━━━━━━\u001b[0m\u001b[37m\u001b[0m \u001b[1m0s\u001b[0m 32ms/step\n",
            "\u001b[1m1/1\u001b[0m \u001b[32m━━━━━━━━━━━━━━━━━━━━\u001b[0m\u001b[37m\u001b[0m \u001b[1m0s\u001b[0m 25ms/step\n",
            "{'Fruit Name': 'Pear 1', 'Calorie (kcal)': 59.18, 'Water (g)': 83.71, 'Protein (g)': 0.38, 'Fiber (g)': 3.1, 'Sugar (g)': 9.8, 'Carbohydrates (g)': 15.46, 'Total fat (g)': 0.12, 'Sugars (g)': 9.8, 'Calcium (mg)': 9, 'Iron (mg)': 0.17, 'Magnesium (mg)': 7, 'Phosphorus (mg)': 11, 'Potassium (mg)': 119, 'Sodium (g)': 1}\n"
          ]
        },
        {
          "output_type": "stream",
          "name": "stderr",
          "text": [
            "/usr/local/lib/python3.10/dist-packages/sklearn/base.py:493: UserWarning: X does not have valid feature names, but StandardScaler was fitted with feature names\n",
            "  warnings.warn(\n"
          ]
        }
      ]
    },
    {
      "cell_type": "code",
      "source": [],
      "metadata": {
        "id": "qijma9RCrq8t"
      },
      "execution_count": null,
      "outputs": []
    }
  ]
}